{
 "cells": [
  {
   "cell_type": "code",
   "execution_count": null,
   "metadata": {
    "dotnet_interactive": {
     "language": "csharp"
    },
    "vscode": {
     "languageId": "csharp"
    }
   },
   "outputs": [
    {
     "name": "stdout",
     "output_type": "stream",
     "text": [
      "Hellow world v2\r\n"
     ]
    }
   ],
   "source": [
    "Console.WriteLine(\"Hellow world v2\");"
   ]
  },
  {
   "cell_type": "code",
   "execution_count": null,
   "metadata": {
    "dotnet_interactive": {
     "language": "csharp"
    },
    "vscode": {
     "languageId": "csharp"
    }
   },
   "outputs": [
    {
     "name": "stdout",
     "output_type": "stream",
     "text": [
      "kim\r\n",
      "info\r\n",
      "test\r\n",
      "ok\r\n",
      "Second\r\n"
     ]
    }
   ],
   "source": [
    "List<string> list=new  List<string>();\n",
    "list.Add(\"kim\");\n",
    "list.Add(\"info\");\n",
    "list.Add(\"test\");\n",
    "list.Add(\"ok\");\n",
    "list.Add(\"Second\");\n",
    "int i=0;\n",
    "while(true){\n",
    "    Console.WriteLine(list[i]);\n",
    "    i++;\n",
    "    if(i>=list.Count)\n",
    "     break;\n",
    "    Console.WriteLine(list[i]);\n",
    "    i++;\n",
    "    if(i>=list.Count)\n",
    "    break;\n",
    "   \n",
    "}"
   ]
  }
 ],
 "metadata": {
  "kernelspec": {
   "display_name": ".NET (C#)",
   "language": "C#",
   "name": ".net-csharp"
  },
  "language_info": {
   "name": "C#"
  }
 },
 "nbformat": 4,
 "nbformat_minor": 2
}
