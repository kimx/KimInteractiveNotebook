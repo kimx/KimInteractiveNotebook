{
 "cells": [
  {
   "cell_type": "code",
   "execution_count": null,
   "metadata": {
    "dotnet_interactive": {
     "language": "csharp"
    },
    "vscode": {
     "languageId": "dotnet-interactive.csharp"
    }
   },
   "outputs": [],
   "source": [
    "/*\n",
    "      參考:https://goodice0728.pixnet.net/blog/post/281053600\n",
    "       */\n",
    "       public class CRational  // 分數類別\n",
    "       {\n",
    "   \n",
    "           public int Molecular; //分子\n",
    "           public int Denominator; //分母\n",
    "   \n",
    "           public CRational(int molecular, int denonmiator)\n",
    "           {\n",
    "               this.Molecular = molecular;\n",
    "               this.Denominator = denonmiator;\n",
    "           }\n",
    "   \n",
    "           public decimal Calculate(decimal value)\n",
    "           {\n",
    "               var percentage = (decimal)Molecular / (decimal)Denominator;\n",
    "               return value * percentage;\n",
    "           }\n",
    "   \n",
    "           public static CRational operator +(CRational a, CRational b)\n",
    "           {\n",
    "               int d = a.Denominator * b.Denominator;//分母通分\n",
    "               int m = (a.Molecular) * (b.Denominator) + (b.Molecular) * (a.Denominator); //分子通分後相加\n",
    "               CRational res = new CRational(m, d);\n",
    "               res.Reducation();\n",
    "               return res;\n",
    "           }\n",
    "   \n",
    "           public static CRational operator -(CRational a, CRational b)\n",
    "           {\n",
    "               int d = a.Denominator * b.Denominator;//分母通分\n",
    "               int m = (a.Molecular) * (b.Denominator) - (b.Molecular) * (a.Denominator); //分子通分後相加\n",
    "               CRational res = new CRational(m, d);\n",
    "               res.Reducation();\n",
    "               return res;\n",
    "           }\n",
    "   \n",
    "        \n",
    "   \n",
    "   \n",
    "           public static CRational operator *(CRational a, CRational b)\n",
    "           {\n",
    "               int d = a.Denominator * b.Denominator;//分母相乘\n",
    "               int m = a.Molecular * b.Molecular; //分子相乘\n",
    "               CRational res = new CRational(m, d);\n",
    "               res.Reducation();\n",
    "               return res;\n",
    "           }\n",
    "   \n",
    "   \n",
    "   \n",
    "           public static CRational operator /(CRational a, CRational b)\n",
    "           {\n",
    "               int d = a.Denominator * b.Molecular;//num1分母*num2的分子=分母\n",
    "               int m = a.Molecular * b.Denominator; //num1分子*num2的分母=分子\n",
    "               CRational res = new CRational(m, d);\n",
    "               return res;\n",
    "           }\n",
    "   \n",
    "   \n",
    "           /// <summary>\n",
    "           /// 約分\n",
    "           /// </summary>\n",
    "           public void Reducation()\n",
    "           {\n",
    "               int gcd = GCD(Molecular, Denominator);\n",
    "               Denominator /= gcd;\n",
    "               Molecular /= gcd;\n",
    "           }\n",
    "   \n",
    "   \n",
    "           /// <summary>\n",
    "           /// 約分計算\n",
    "           /// </summary>\n",
    "           /// <param name=\"a\"></param>\n",
    "           /// <param name=\"b\"></param>\n",
    "           /// <returns></returns>\n",
    "           private int GCD(int a, int b)\n",
    "           {\n",
    "               int temp = 0;\n",
    "               while (b != 0)\n",
    "               {\n",
    "                   temp = a % b;\n",
    "                   a = b;\n",
    "                   b = temp;\n",
    "               }\n",
    "               return a;\n",
    "           }\n",
    "   \n",
    "       }"
   ]
  },
  {
   "cell_type": "code",
   "execution_count": null,
   "metadata": {
    "dotnet_interactive": {
     "language": "csharp"
    },
    "vscode": {
     "languageId": "dotnet-interactive.csharp"
    }
   },
   "outputs": [
    {
     "name": "stdout",
     "output_type": "stream",
     "text": [
      "1/1\r\n",
      "100\r\n",
      "\r\n",
      "1/3\r\n",
      "33.333333333333333333333333330\r\n",
      "\r\n",
      "2/9\r\n",
      "22.222222222222222222222222220\r\n",
      "\r\n",
      "6/3\r\n",
      "200\r\n",
      "\r\n"
     ]
    }
   ],
   "source": [
    "CRational num1 = new CRational(2, 3);\n",
    "CRational num2 = new CRational(1, 3);\n",
    "CRational addResult = num1 + num2;\n",
    "Show(addResult); //顯示結果\n",
    "\n",
    "CRational subResult = num1 - num2;\n",
    "Show(subResult); //顯示結果\n",
    "\n",
    "CRational mulResult = num1 * num2;\n",
    "Show(mulResult); //顯示結果\n",
    "\n",
    "CRational divResult = num1 / num2;\n",
    "Show(divResult); //顯示結果\n",
    "  \n",
    "static void Show(CRational result)\n",
    "{\n",
    "    Console.WriteLine(result.Molecular + \"/\" + result.Denominator);\n",
    "    Console.WriteLine(result.Calculate(100));\n",
    "    Console.WriteLine();\n",
    "}"
   ]
  }
 ],
 "metadata": {
  "kernelspec": {
   "display_name": ".NET (C#)",
   "language": "C#",
   "name": ".net-csharp"
  },
  "language_info": {
   "name": "C#"
  }
 },
 "nbformat": 4,
 "nbformat_minor": 2
}
